{
 "cells": [
  {
   "cell_type": "code",
   "execution_count": null,
   "metadata": {},
   "outputs": [],
   "source": [
    "import os\n",
    "import time\n",
    "import requests\n",
    "import base64\n",
    "import pandas as pd\n",
    "\n",
    "\n",
    "from selenium import webdriver\n",
    "from selenium.webdriver.common.by import By\n",
    "from selenium.webdriver.common.keys import Keys\n",
    "from selenium.webdriver.support.ui import WebDriverWait\n",
    "from selenium.webdriver.support import expected_conditions as EC\n",
    "\n",
    "from dotenv import load_dotenv\n",
    "\n",
    "load_dotenv()\n",
    "\n",
    "email = os.getenv('EMAIL')\n",
    "password = os.getenv('PASSWORD')\n",
    "\n",
    "captcha_str = os.getenv('CAPTCHA')"
   ]
  },
  {
   "cell_type": "code",
   "execution_count": null,
   "metadata": {},
   "outputs": [],
   "source": [
    "driver = webdriver.Firefox()"
   ]
  },
  {
   "cell_type": "code",
   "execution_count": null,
   "metadata": {},
   "outputs": [],
   "source": [
    "wait = WebDriverWait(driver,10)"
   ]
  },
  {
   "cell_type": "code",
   "execution_count": null,
   "metadata": {},
   "outputs": [],
   "source": [
    "driver.get(\"https://www.coursera.org/?authMode=login\")\n",
    "time.sleep(5)\n",
    "email_field = driver.find_element(By.CSS_SELECTOR, 'input[name=\"email\"]')\n",
    "password_field = driver.find_element(By.CSS_SELECTOR, 'input[name=\"password\"]')\n",
    "email_field.send_keys(email)\n",
    "password_field.send_keys(password)\n",
    "password_field.send_keys(Keys.RETURN)"
   ]
  },
  {
   "cell_type": "code",
   "execution_count": null,
   "metadata": {},
   "outputs": [],
   "source": [
    "url = input(\"Enter the URL of the course you want to download: \")"
   ]
  },
  {
   "cell_type": "code",
   "execution_count": null,
   "metadata": {},
   "outputs": [],
   "source": [
    "driver.get(url)"
   ]
  },
  {
   "cell_type": "code",
   "execution_count": null,
   "metadata": {},
   "outputs": [],
   "source": [
    "time.sleep(5)"
   ]
  },
  {
   "cell_type": "code",
   "execution_count": null,
   "metadata": {},
   "outputs": [],
   "source": [
    "links=[]\n",
    "weeks = driver.find_elements(By.XPATH, '//a[@data-test=\"rc-WeekNavigationItem\"]')\n",
    "for week in weeks:\n",
    "    link = week.get_attribute('href')\n",
    "    links.append(link)"
   ]
  },
  {
   "cell_type": "code",
   "execution_count": null,
   "metadata": {},
   "outputs": [],
   "source": [
    "def get_quizzes():\n",
    "    quizzes = []\n",
    "    items = driver.find_elements(By.XPATH, '//a[@data-track-component=\"item_link\"]')\n",
    "    for item in items:\n",
    "        link = item.get_attribute('href')\n",
    "        if 'assignment-submission' in link:\n",
    "            quizzes.append(link)\n",
    "    return quizzes"
   ]
  },
  {
   "cell_type": "code",
   "execution_count": null,
   "metadata": {},
   "outputs": [],
   "source": [
    "def continue_button():\n",
    "    print(\"Looking for continue button\")\n",
    "    try:\n",
    "        button = driver.find_element(By.XPATH, \"//button[span[text()='Continue']]\")\n",
    "        button.click()\n",
    "        print(\"Clicking continue button\")\n",
    "    except:\n",
    "        print(\"No continue button\")"
   ]
  },
  {
   "cell_type": "code",
   "execution_count": null,
   "metadata": {},
   "outputs": [],
   "source": [
    "def get_answers():\n",
    "    df = pd.DataFrame(columns=['Question', 'Answer', 'Image'])\n",
    "\n",
    "    questions = driver.find_elements(By.XPATH, '//div[@role=\"group\"]')\n",
    "\n",
    "    for q_index, q in enumerate(questions):\n",
    "        question_text = q.get_attribute('innerText')\n",
    "        answer_text = \"Not found\"\n",
    "        image_base64_list = []\n",
    "\n",
    "        try:\n",
    "            correct = q.find_elements(By.XPATH, './/label[contains(@class, \"cui-isChecked\")]')\n",
    "            if correct:\n",
    "                answer_text = '; '.join([c.get_attribute('innerText') for c in correct])\n",
    "        except:\n",
    "            pass\n",
    "\n",
    "        images = q.find_elements(By.XPATH, './/img')\n",
    "        for img in images:\n",
    "            image_src = img.get_attribute('src')\n",
    "            try:\n",
    "                if image_src.startswith('data:image'):\n",
    "                    image_base64_list.append(image_src)\n",
    "                else:\n",
    "                    # Download and convert to base64\n",
    "                    image_data = requests.get(image_src).content\n",
    "                    encoded = base64.b64encode(image_data).decode('utf-8')\n",
    "                    file_type = image_src.split('.')[-1].split('?')[0]\n",
    "                    image_base64_list.append(f\"data:image/{file_type};base64,{encoded}\")\n",
    "            except:\n",
    "                image_base64_list.append(\"Unable to fetch image\")\n",
    "\n",
    "        df = pd.concat([df, pd.DataFrame([{\n",
    "            'Question': question_text,\n",
    "            'Answer': answer_text,\n",
    "            'Image': '; '.join(image_base64_list) if image_base64_list else None\n",
    "        }])], ignore_index=True)\n",
    "\n",
    "    return df"
   ]
  },
  {
   "cell_type": "code",
   "execution_count": null,
   "metadata": {},
   "outputs": [],
   "source": [
    "df = pd.DataFrame(columns=[\"Question\", \"Answer\", \"Image\"])"
   ]
  },
  {
   "cell_type": "code",
   "execution_count": null,
   "metadata": {},
   "outputs": [],
   "source": [
    "for link in links:\n",
    "    driver.get(link)\n",
    "    time.sleep(10)\n",
    "    quizzes = get_quizzes()\n",
    "    for quiz in quizzes:\n",
    "        driver.get(quiz)\n",
    "        time.sleep(10)\n",
    "        continue_button()\n",
    "\n",
    "        # Wait for submission button to appear and click it\n",
    "        WebDriverWait(driver, 10).until(\n",
    "            EC.element_to_be_clickable((By.XPATH, '//button[@data-testid=\"view-submission-button\"]'))\n",
    "        ).click()\n",
    "\n",
    "        continue_button()\n",
    "        time.sleep(10)\n",
    "        df = pd.concat([df, get_answers()], ignore_index=True)"
   ]
  },
  {
   "cell_type": "code",
   "execution_count": null,
   "metadata": {},
   "outputs": [],
   "source": [
    "df.to_csv('answers.csv', index=False)"
   ]
  }
 ],
 "metadata": {
  "kernelspec": {
   "display_name": "env",
   "language": "python",
   "name": "python3"
  },
  "language_info": {
   "codemirror_mode": {
    "name": "ipython",
    "version": 3
   },
   "file_extension": ".py",
   "mimetype": "text/x-python",
   "name": "python",
   "nbconvert_exporter": "python",
   "pygments_lexer": "ipython3",
   "version": "3.12.3"
  }
 },
 "nbformat": 4,
 "nbformat_minor": 2
}
